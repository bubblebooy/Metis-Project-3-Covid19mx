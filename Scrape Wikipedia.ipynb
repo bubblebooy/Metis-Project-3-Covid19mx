{
 "cells": [
  {
   "cell_type": "code",
   "execution_count": 2,
   "metadata": {
    "ExecuteTime": {
     "end_time": "2020-04-27T21:18:01.037588Z",
     "start_time": "2020-04-27T21:18:00.268840Z"
    }
   },
   "outputs": [],
   "source": [
    "import pandas as pd\n",
    "\n",
    "from sqlalchemy import create_engine"
   ]
  },
  {
   "cell_type": "code",
   "execution_count": 3,
   "metadata": {
    "ExecuteTime": {
     "end_time": "2020-04-27T21:18:01.109566Z",
     "start_time": "2020-04-27T21:18:01.052583Z"
    }
   },
   "outputs": [],
   "source": [
    "cnx = create_engine('postgresql://ubuntu@18.191.26.249:5432/covid19mx')"
   ]
  },
  {
   "cell_type": "code",
   "execution_count": 25,
   "metadata": {
    "ExecuteTime": {
     "end_time": "2020-04-27T22:07:16.962182Z",
     "start_time": "2020-04-27T22:07:14.667438Z"
    }
   },
   "outputs": [
    {
     "data": {
      "text/html": [
       "<div>\n",
       "<style scoped>\n",
       "    .dataframe tbody tr th:only-of-type {\n",
       "        vertical-align: middle;\n",
       "    }\n",
       "\n",
       "    .dataframe tbody tr th {\n",
       "        vertical-align: top;\n",
       "    }\n",
       "\n",
       "    .dataframe thead th {\n",
       "        text-align: right;\n",
       "    }\n",
       "</style>\n",
       "<table border=\"1\" class=\"dataframe\">\n",
       "  <thead>\n",
       "    <tr style=\"text-align: right;\">\n",
       "      <th></th>\n",
       "      <th>State</th>\n",
       "      <th>Population</th>\n",
       "      <th>Area</th>\n",
       "      <th>PopulationDensity</th>\n",
       "    </tr>\n",
       "  </thead>\n",
       "  <tbody>\n",
       "    <tr>\n",
       "      <th>0</th>\n",
       "      <td>Mexico City</td>\n",
       "      <td>8851080</td>\n",
       "      <td>1485</td>\n",
       "      <td>5920.0</td>\n",
       "    </tr>\n",
       "    <tr>\n",
       "      <th>1</th>\n",
       "      <td>Mexico State</td>\n",
       "      <td>15175862</td>\n",
       "      <td>22357</td>\n",
       "      <td>679.0</td>\n",
       "    </tr>\n",
       "    <tr>\n",
       "      <th>2</th>\n",
       "      <td>Morelos</td>\n",
       "      <td>1777227</td>\n",
       "      <td>4893</td>\n",
       "      <td>364.0</td>\n",
       "    </tr>\n",
       "    <tr>\n",
       "      <th>3</th>\n",
       "      <td>Tlaxcala</td>\n",
       "      <td>1169936</td>\n",
       "      <td>3991</td>\n",
       "      <td>293.0</td>\n",
       "    </tr>\n",
       "    <tr>\n",
       "      <th>4</th>\n",
       "      <td>Aguascalientes</td>\n",
       "      <td>1184996</td>\n",
       "      <td>5618</td>\n",
       "      <td>211.0</td>\n",
       "    </tr>\n",
       "  </tbody>\n",
       "</table>\n",
       "</div>"
      ],
      "text/plain": [
       "            State  Population   Area  PopulationDensity\n",
       "0     Mexico City     8851080   1485             5920.0\n",
       "1    Mexico State    15175862  22357              679.0\n",
       "2         Morelos     1777227   4893              364.0\n",
       "3        Tlaxcala     1169936   3991              293.0\n",
       "4  Aguascalientes     1184996   5618              211.0"
      ]
     },
     "execution_count": 25,
     "metadata": {},
     "output_type": "execute_result"
    }
   ],
   "source": [
    "population_density = pd.read_html(\"https://en.wikipedia.org/wiki/List_of_Mexican_states_by_population_density\")\n",
    "population_density = population_density[1]\n",
    "population_density['State'] = population_density['State'].str[3:].str.strip()\n",
    "population_density.rename(columns = {\n",
    "        population_density.columns[1]: 'Population' ,\n",
    "        population_density.columns[2]: 'Area' ,\n",
    "        population_density.columns[3]: 'PopulationDensity' ,\n",
    "    },inplace=True)\n",
    "population_density.State = population_density.State.replace(\"United Mexican States (México)\", \"United Mexican States\")\n",
    "population_density.State = population_density.State.replace(\"State of Mexico\", \"Mexico State\")\n",
    "population_density.to_sql('pop_density', con=cnx, if_exists='replace')\n",
    "population_density.head()"
   ]
  },
  {
   "cell_type": "code",
   "execution_count": 24,
   "metadata": {
    "ExecuteTime": {
     "end_time": "2020-04-27T22:01:05.303186Z",
     "start_time": "2020-04-27T22:01:02.726660Z"
    }
   },
   "outputs": [
    {
     "data": {
      "text/html": [
       "<div>\n",
       "<style scoped>\n",
       "    .dataframe tbody tr th:only-of-type {\n",
       "        vertical-align: middle;\n",
       "    }\n",
       "\n",
       "    .dataframe tbody tr th {\n",
       "        vertical-align: top;\n",
       "    }\n",
       "\n",
       "    .dataframe thead th {\n",
       "        text-align: right;\n",
       "    }\n",
       "</style>\n",
       "<table border=\"1\" class=\"dataframe\">\n",
       "  <thead>\n",
       "    <tr style=\"text-align: right;\">\n",
       "      <th></th>\n",
       "      <th>Rank</th>\n",
       "      <th>Federal Entity</th>\n",
       "      <th>2017</th>\n",
       "      <th>2010</th>\n",
       "    </tr>\n",
       "  </thead>\n",
       "  <tbody>\n",
       "    <tr>\n",
       "      <th>1</th>\n",
       "      <td>1.0</td>\n",
       "      <td>CIUDAD DE MÉXICO</td>\n",
       "      <td>0.834</td>\n",
       "      <td>0.818</td>\n",
       "    </tr>\n",
       "    <tr>\n",
       "      <th>2</th>\n",
       "      <td>2.0</td>\n",
       "      <td>Baja California</td>\n",
       "      <td>0.809</td>\n",
       "      <td>0.784</td>\n",
       "    </tr>\n",
       "    <tr>\n",
       "      <th>3</th>\n",
       "      <td>3.0</td>\n",
       "      <td>Nuevo León</td>\n",
       "      <td>0.807</td>\n",
       "      <td>0.788</td>\n",
       "    </tr>\n",
       "    <tr>\n",
       "      <th>4</th>\n",
       "      <td>4.0</td>\n",
       "      <td>Baja California Sur</td>\n",
       "      <td>0.805</td>\n",
       "      <td>0.771</td>\n",
       "    </tr>\n",
       "    <tr>\n",
       "      <th>5</th>\n",
       "      <td>5.0</td>\n",
       "      <td>Sonora</td>\n",
       "      <td>0.804</td>\n",
       "      <td>0.782</td>\n",
       "    </tr>\n",
       "  </tbody>\n",
       "</table>\n",
       "</div>"
      ],
      "text/plain": [
       "   Rank       Federal Entity   2017   2010\n",
       "1   1.0     CIUDAD DE MÉXICO  0.834  0.818\n",
       "2   2.0      Baja California  0.809  0.784\n",
       "3   3.0           Nuevo León  0.807  0.788\n",
       "4   4.0  Baja California Sur  0.805  0.771\n",
       "5   5.0               Sonora  0.804  0.782"
      ]
     },
     "execution_count": 24,
     "metadata": {},
     "output_type": "execute_result"
    }
   ],
   "source": [
    "Human_Development_Index = pd.read_html(\"https://en.wikipedia.org/wiki/List_of_Mexican_states_by_Human_Development_Index\")\n",
    "Human_Development_Index = Human_Development_Index[0]\n",
    "Human_Development_Index.columns = Human_Development_Index.columns.droplevel()\n",
    "Human_Development_Index = Human_Development_Index.drop(columns = [\"Unnamed: 6_level_1\",\"Comparable Country (2017)\",\"Comparable Country (2010)\"])\n",
    "Human_Development_Index[['Rank','2017','2010']] = Human_Development_Index[['Rank','2017','2010']].apply(pd.to_numeric, errors='coerce')\n",
    "Human_Development_Index = Human_Development_Index.dropna()\n",
    "\n",
    "Human_Development_Index[\"Federal Entity\"] = Human_Development_Index[\"Federal Entity\"].replace(\"Mexico City\", \"CIUDAD DE MÉXICO\")\n",
    "Human_Development_Index[\"Federal Entity\"] = Human_Development_Index[\"Federal Entity\"].replace(\"Querétaro de Arteaga\", \"QUERÉTARO\")\n",
    "Human_Development_Index[\"Federal Entity\"] = Human_Development_Index[\"Federal Entity\"].replace(\"Veracruz\", \"VERACRUZ DE IGNACIO DE LA LLAVE\")\n",
    "Human_Development_Index[\"Federal Entity\"] = Human_Development_Index[\"Federal Entity\"].replace(\"State of Mexico\", \"MÉXICO\")\n",
    "Human_Development_Index = Human_Development_Index.append(pd.DataFrame([[\"ESTADOS UNIDOS MEXICANOS\",0.774]],columns=['Federal Entity','2017'])) \n",
    "\n",
    "Human_Development_Index.to_sql('HDI', con=cnx, if_exists='replace')\n",
    "Human_Development_Index.head()"
   ]
  },
  {
   "cell_type": "code",
   "execution_count": 13,
   "metadata": {
    "ExecuteTime": {
     "end_time": "2020-04-27T21:34:05.747444Z",
     "start_time": "2020-04-27T21:34:03.323224Z"
    }
   },
   "outputs": [
    {
     "data": {
      "text/html": [
       "<div>\n",
       "<style scoped>\n",
       "    .dataframe tbody tr th:only-of-type {\n",
       "        vertical-align: middle;\n",
       "    }\n",
       "\n",
       "    .dataframe tbody tr th {\n",
       "        vertical-align: top;\n",
       "    }\n",
       "\n",
       "    .dataframe thead th {\n",
       "        text-align: right;\n",
       "    }\n",
       "</style>\n",
       "<table border=\"1\" class=\"dataframe\">\n",
       "  <thead>\n",
       "    <tr style=\"text-align: right;\">\n",
       "      <th></th>\n",
       "      <th>Rank</th>\n",
       "      <th>State</th>\n",
       "      <th>perCapita</th>\n",
       "    </tr>\n",
       "  </thead>\n",
       "  <tbody>\n",
       "    <tr>\n",
       "      <th>0</th>\n",
       "      <td>1</td>\n",
       "      <td>Campeche</td>\n",
       "      <td>474486</td>\n",
       "    </tr>\n",
       "    <tr>\n",
       "      <th>1</th>\n",
       "      <td>2</td>\n",
       "      <td>Mexico City</td>\n",
       "      <td>386135</td>\n",
       "    </tr>\n",
       "    <tr>\n",
       "      <th>2</th>\n",
       "      <td>3</td>\n",
       "      <td>Nuevo León</td>\n",
       "      <td>285709</td>\n",
       "    </tr>\n",
       "    <tr>\n",
       "      <th>3</th>\n",
       "      <td>4</td>\n",
       "      <td>Coahuila</td>\n",
       "      <td>245682</td>\n",
       "    </tr>\n",
       "    <tr>\n",
       "      <th>4</th>\n",
       "      <td>5</td>\n",
       "      <td>Sonora</td>\n",
       "      <td>234200</td>\n",
       "    </tr>\n",
       "  </tbody>\n",
       "</table>\n",
       "</div>"
      ],
      "text/plain": [
       "  Rank        State  perCapita\n",
       "0    1     Campeche     474486\n",
       "1    2  Mexico City     386135\n",
       "2    3   Nuevo León     285709\n",
       "3    4     Coahuila     245682\n",
       "4    5       Sonora     234200"
      ]
     },
     "execution_count": 13,
     "metadata": {},
     "output_type": "execute_result"
    }
   ],
   "source": [
    "GDP_per_capita = pd.read_html(\"https://en.wikipedia.org/wiki/List_of_Mexican_states_by_GDP_per_capita\")\n",
    "GDP_per_capita = GDP_per_capita[0]\n",
    "GDP_per_capita.columns = GDP_per_capita.columns.droplevel()\n",
    "GDP_per_capita = GDP_per_capita.drop(columns = [\"Unnamed: 4_level_1\",\"GDP per capita (USD PPP)\"])\n",
    "GDP_per_capita.rename(columns = {\n",
    "        GDP_per_capita.columns[2]: 'perCapita' ,\n",
    "    },inplace=True)\n",
    "GDP_per_capita.State = GDP_per_capita.State.replace(\"Ciudad de México\", \"Mexico City\")\n",
    "GDP_per_capita.to_sql('GDP_per_cap', con=cnx, if_exists='replace')\n",
    "GDP_per_capita.head()"
   ]
  },
  {
   "cell_type": "code",
   "execution_count": 118,
   "metadata": {
    "ExecuteTime": {
     "end_time": "2020-04-25T20:03:55.978210Z",
     "start_time": "2020-04-25T20:03:54.198914Z"
    }
   },
   "outputs": [
    {
     "data": {
      "text/html": [
       "<div>\n",
       "<style scoped>\n",
       "    .dataframe tbody tr th:only-of-type {\n",
       "        vertical-align: middle;\n",
       "    }\n",
       "\n",
       "    .dataframe tbody tr th {\n",
       "        vertical-align: top;\n",
       "    }\n",
       "\n",
       "    .dataframe thead th {\n",
       "        text-align: right;\n",
       "    }\n",
       "</style>\n",
       "<table border=\"1\" class=\"dataframe\">\n",
       "  <thead>\n",
       "    <tr style=\"text-align: right;\">\n",
       "      <th></th>\n",
       "      <th>Rank</th>\n",
       "      <th>State</th>\n",
       "      <th>GDP</th>\n",
       "    </tr>\n",
       "  </thead>\n",
       "  <tbody>\n",
       "    <tr>\n",
       "      <th>0</th>\n",
       "      <td>-</td>\n",
       "      <td>United Mexican States</td>\n",
       "      <td>13401295</td>\n",
       "    </tr>\n",
       "    <tr>\n",
       "      <th>1</th>\n",
       "      <td>1</td>\n",
       "      <td>Mexico City</td>\n",
       "      <td>2254840</td>\n",
       "    </tr>\n",
       "    <tr>\n",
       "      <th>2</th>\n",
       "      <td>2</td>\n",
       "      <td>Mexico State</td>\n",
       "      <td>1209424</td>\n",
       "    </tr>\n",
       "    <tr>\n",
       "      <th>3</th>\n",
       "      <td>3</td>\n",
       "      <td>Nuevo León</td>\n",
       "      <td>999407</td>\n",
       "    </tr>\n",
       "    <tr>\n",
       "      <th>4</th>\n",
       "      <td>4</td>\n",
       "      <td>Jalisco</td>\n",
       "      <td>850237</td>\n",
       "    </tr>\n",
       "  </tbody>\n",
       "</table>\n",
       "</div>"
      ],
      "text/plain": [
       "  Rank                  State       GDP\n",
       "0    -  United Mexican States  13401295\n",
       "1    1            Mexico City   2254840\n",
       "2    2           Mexico State   1209424\n",
       "3    3             Nuevo León    999407\n",
       "4    4                Jalisco    850237"
      ]
     },
     "execution_count": 118,
     "metadata": {},
     "output_type": "execute_result"
    }
   ],
   "source": [
    "GDP = pd.read_html(\"https://en.wikipedia.org/wiki/List_of_Mexican_states_by_GDP\")\n",
    "GDP = GDP[0]\n",
    "GDP.columns = GDP.columns.droplevel()\n",
    "GDP = GDP.drop(columns = [\"Unnamed: 5_level_1\",\"Percent\",\"GDP (millions of USD)\"])\n",
    "GDP.rename(columns = {\n",
    "        GDP.columns[2]: 'GDP' ,\n",
    "    },inplace=True)\n",
    "GDP.to_sql('GDP', con=cnx, if_exists='replace')\n",
    "GDP.head()"
   ]
  },
  {
   "cell_type": "code",
   "execution_count": 28,
   "metadata": {
    "ExecuteTime": {
     "end_time": "2020-04-27T22:13:31.899361Z",
     "start_time": "2020-04-27T22:13:29.507519Z"
    }
   },
   "outputs": [
    {
     "data": {
      "text/html": [
       "<div>\n",
       "<style scoped>\n",
       "    .dataframe tbody tr th:only-of-type {\n",
       "        vertical-align: middle;\n",
       "    }\n",
       "\n",
       "    .dataframe tbody tr th {\n",
       "        vertical-align: top;\n",
       "    }\n",
       "\n",
       "    .dataframe thead th {\n",
       "        text-align: right;\n",
       "    }\n",
       "</style>\n",
       "<table border=\"1\" class=\"dataframe\">\n",
       "  <thead>\n",
       "    <tr style=\"text-align: right;\">\n",
       "      <th></th>\n",
       "      <th>Rank</th>\n",
       "      <th>State</th>\n",
       "      <th>PovertyRate</th>\n",
       "      <th>PovertyRate2010</th>\n",
       "    </tr>\n",
       "  </thead>\n",
       "  <tbody>\n",
       "    <tr>\n",
       "      <th>0</th>\n",
       "      <td>1</td>\n",
       "      <td>Chiapas</td>\n",
       "      <td>74.7</td>\n",
       "      <td>78.5</td>\n",
       "    </tr>\n",
       "    <tr>\n",
       "      <th>1</th>\n",
       "      <td>2</td>\n",
       "      <td>Guerrero</td>\n",
       "      <td>69.7</td>\n",
       "      <td>67.6</td>\n",
       "    </tr>\n",
       "    <tr>\n",
       "      <th>2</th>\n",
       "      <td>3</td>\n",
       "      <td>Puebla</td>\n",
       "      <td>64.5</td>\n",
       "      <td>61.5</td>\n",
       "    </tr>\n",
       "    <tr>\n",
       "      <th>3</th>\n",
       "      <td>4</td>\n",
       "      <td>Oaxaca</td>\n",
       "      <td>61.9</td>\n",
       "      <td>67.0</td>\n",
       "    </tr>\n",
       "    <tr>\n",
       "      <th>4</th>\n",
       "      <td>5</td>\n",
       "      <td>Tlaxcala</td>\n",
       "      <td>57.9</td>\n",
       "      <td>60.3</td>\n",
       "    </tr>\n",
       "  </tbody>\n",
       "</table>\n",
       "</div>"
      ],
      "text/plain": [
       "  Rank     State PovertyRate PovertyRate2010\n",
       "0    1   Chiapas        74.7            78.5\n",
       "1    2  Guerrero        69.7            67.6\n",
       "2    3    Puebla        64.5            61.5\n",
       "3    4    Oaxaca        61.9            67.0\n",
       "4    5  Tlaxcala        57.9            60.3"
      ]
     },
     "execution_count": 28,
     "metadata": {},
     "output_type": "execute_result"
    }
   ],
   "source": [
    "poverty_rate = pd.read_html(\"https://en.wikipedia.org/wiki/List_of_Mexican_states_by_poverty_rate\")\n",
    "poverty_rate = poverty_rate[0]\n",
    "poverty_rate['Poverty Rate (2012) [1]'] = poverty_rate['Poverty Rate (2012) [1]'].str.replace(\"%\",'')\n",
    "poverty_rate['Poverty Rate (2010) [2]'] = poverty_rate['Poverty Rate (2010) [2]'].str.replace(\"%\",'')\n",
    "poverty_rate.rename(columns = {\n",
    "        poverty_rate.columns[2]: 'PovertyRate' ,\n",
    "        poverty_rate.columns[3]: 'PovertyRate2010'\n",
    "    },inplace=True)\n",
    "poverty_rate.State = poverty_rate.State.replace(\"México\", \"Mexico State\")\n",
    "poverty_rate = poverty_rate.append(pd.DataFrame([[\"United Mexican States\",42.0]],columns=['State','PovertyRate'])) \n",
    "\n",
    "poverty_rate.to_sql('poverty_rate', con=cnx, if_exists='replace')\n",
    "poverty_rate.head()"
   ]
  },
  {
   "cell_type": "code",
   "execution_count": null,
   "metadata": {},
   "outputs": [],
   "source": []
  }
 ],
 "metadata": {
  "kernelspec": {
   "display_name": "Python 3",
   "language": "python",
   "name": "python3"
  },
  "language_info": {
   "codemirror_mode": {
    "name": "ipython",
    "version": 3
   },
   "file_extension": ".py",
   "mimetype": "text/x-python",
   "name": "python",
   "nbconvert_exporter": "python",
   "pygments_lexer": "ipython3",
   "version": "3.7.6"
  },
  "toc": {
   "base_numbering": 1,
   "nav_menu": {},
   "number_sections": true,
   "sideBar": true,
   "skip_h1_title": false,
   "title_cell": "Table of Contents",
   "title_sidebar": "Contents",
   "toc_cell": false,
   "toc_position": {},
   "toc_section_display": true,
   "toc_window_display": false
  },
  "varInspector": {
   "cols": {
    "lenName": 16,
    "lenType": 16,
    "lenVar": 40
   },
   "kernels_config": {
    "python": {
     "delete_cmd_postfix": "",
     "delete_cmd_prefix": "del ",
     "library": "var_list.py",
     "varRefreshCmd": "print(var_dic_list())"
    },
    "r": {
     "delete_cmd_postfix": ") ",
     "delete_cmd_prefix": "rm(",
     "library": "var_list.r",
     "varRefreshCmd": "cat(var_dic_list()) "
    }
   },
   "types_to_exclude": [
    "module",
    "function",
    "builtin_function_or_method",
    "instance",
    "_Feature"
   ],
   "window_display": false
  }
 },
 "nbformat": 4,
 "nbformat_minor": 4
}
